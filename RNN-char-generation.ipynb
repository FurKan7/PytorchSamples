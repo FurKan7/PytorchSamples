{
 "cells": [
  {
   "cell_type": "code",
   "execution_count": 1,
   "metadata": {
    "collapsed": true
   },
   "outputs": [],
   "source": [
    "import unidecode\n",
    "import string\n",
    "import random\n",
    "import re"
   ]
  },
  {
   "cell_type": "code",
   "execution_count": 2,
   "metadata": {},
   "outputs": [
    {
     "name": "stdout",
     "output_type": "stream",
     "text": [
      "file_len = 1384109\n"
     ]
    }
   ],
   "source": [
    "all_characters = string.printable\n",
    "n_characters = len(all_characters)\n",
    "\n",
    "file = unidecode.unidecode(open('data/calikusu.txt').read())\n",
    "file_len = len(file)\n",
    "print('file_len =', file_len)"
   ]
  },
  {
   "cell_type": "code",
   "execution_count": 3,
   "metadata": {},
   "outputs": [
    {
     "name": "stdout",
     "output_type": "stream",
     "text": [
      ", ilk bakista onlari hatirlatiyordu.\n",
      "Altlarina dort direkten ibaret ahirlar, ustlerinde asma merdivenle cikilan bir iki oda. Herhalde, Zeyniler\n",
      "simdiye kadar isittigim ve resimlerini gordugum koylerden\n"
     ]
    }
   ],
   "source": [
    "chunk_len = 200\n",
    "\n",
    "def random_chunk():\n",
    "    start_index = random.randint(0, file_len - chunk_len)\n",
    "    end_index = start_index + chunk_len + 1\n",
    "    return file[start_index:end_index]\n",
    "\n",
    "print(random_chunk())"
   ]
  },
  {
   "cell_type": "code",
   "execution_count": 4,
   "metadata": {
    "collapsed": true
   },
   "outputs": [],
   "source": [
    "import torch\n",
    "import torch.nn as nn\n",
    "from torch.autograd import Variable\n",
    "\n",
    "class RNN(nn.Module):\n",
    "    def __init__(self, input_size, hidden_size, output_size, n_layers=1):\n",
    "        super(RNN, self).__init__()\n",
    "        self.input_size = input_size\n",
    "        self.hidden_size = hidden_size\n",
    "        self.output_size = output_size\n",
    "        self.n_layers = n_layers\n",
    "        \n",
    "        self.encoder = nn.Embedding(input_size, hidden_size)\n",
    "        self.gru = nn.GRU(hidden_size, hidden_size, n_layers)\n",
    "        self.decoder = nn.Linear(hidden_size, output_size)\n",
    "        \n",
    "    def forward(self, input, hidden):\n",
    "        input = self.encoder(input.view(1, -1))\n",
    "        output, hidden = self.gru(input.view(1, 1, -1), hidden)\n",
    "        output = self.decoder(output.view(1, -1))\n",
    "        return output, hidden\n",
    "    \n",
    "    def init_hidden(self):\n",
    "        return Variable(torch.zeros(self.n_layers, 1, self.hidden_size))"
   ]
  },
  {
   "cell_type": "code",
   "execution_count": 5,
   "metadata": {},
   "outputs": [
    {
     "name": "stdout",
     "output_type": "stream",
     "text": [
      "Variable containing:\n",
      " 10\n",
      " 11\n",
      " 12\n",
      " 39\n",
      " 40\n",
      " 41\n",
      "[torch.LongTensor of size 6]\n",
      "\n"
     ]
    }
   ],
   "source": [
    "def char_tensor(string):\n",
    "    tensor = torch.zeros(len(string)).long()\n",
    "    for c in range(len(string)):\n",
    "        tensor[c] = all_characters.index(string[c])\n",
    "    return Variable(tensor)\n",
    "\n",
    "print(char_tensor('abcDEF'))"
   ]
  },
  {
   "cell_type": "code",
   "execution_count": 6,
   "metadata": {
    "collapsed": true
   },
   "outputs": [],
   "source": [
    "def random_training_set():\n",
    "    chunk = random_chunk()\n",
    "    inp = char_tensor(chunk[:-1])\n",
    "    target = char_tensor(chunk[1:])\n",
    "    return inp, target"
   ]
  },
  {
   "cell_type": "code",
   "execution_count": 7,
   "metadata": {
    "collapsed": true
   },
   "outputs": [],
   "source": [
    "def evaluate(prime_str = 'A', predict_len=100, temperature=0.8):\n",
    "    hidden = decoder.init_hidden()\n",
    "    prime_input = char_tensor(prime_str)\n",
    "    predicted = prime_str\n",
    "    \n",
    "    for p in range(len(prime_str) - 1):\n",
    "        _, hidden = decoder(prime_input[p], hidden)\n",
    "    inp = prime_input[-1]\n",
    "    \n",
    "    for p in range(predict_len):\n",
    "        output, hidden = decoder(inp, hidden)\n",
    "        \n",
    "        output_dist = output.data.view(-1).div(temperature).exp()\n",
    "        top_i = torch.multinomial(output_dist, 1)[0]\n",
    "        \n",
    "        predicted_char = all_characters[top_i]\n",
    "        predicted += predicted_char\n",
    "        inp = char_tensor(predicted_char)\n",
    "    return predicted\n"
   ]
  },
  {
   "cell_type": "code",
   "execution_count": 8,
   "metadata": {
    "collapsed": true
   },
   "outputs": [],
   "source": [
    "import time, math\n",
    "\n",
    "def time_since(since):\n",
    "    s = time.time() - since\n",
    "    m = math.floor(s / 60)\n",
    "    s -= m * 60\n",
    "    return ('%dm %ds' % (m, s))"
   ]
  },
  {
   "cell_type": "code",
   "execution_count": 9,
   "metadata": {
    "collapsed": true
   },
   "outputs": [],
   "source": [
    "def train(inp ,target):\n",
    "    hidden = decoder.init_hidden()\n",
    "    decoder.zero_grad()\n",
    "    loss = 0\n",
    "    \n",
    "    for c in range(chunk_len):\n",
    "        output, hidden = decoder(inp[c], hidden)\n",
    "        loss += criterion(output, target[c])\n",
    "        \n",
    "    loss.backward()\n",
    "    decoder_optimizer.step()\n",
    "    \n",
    "    return loss.data[0] / chunk_len"
   ]
  },
  {
   "cell_type": "code",
   "execution_count": 10,
   "metadata": {},
   "outputs": [
    {
     "name": "stdout",
     "output_type": "stream",
     "text": [
      "[1m 46s (100 5%) 2.2064]\n",
      "far sarin siy kapani. Bunerine ven icini iisilmeni me deklensensimde karde berinmeye Gungemindegirin b \n",
      "\n",
      "[3m 38s (200 10%) 2.1118]\n",
      "fak cerimderin kirtiyorsu vardi\n",
      "gabi duldu gibi banimda duyan? Bey varmaya bucadi. Kuyunuyordum.\n",
      "Bu co \n",
      "\n",
      "[5m 34s (300 15%) 1.9295]\n",
      "fahsimir parakmek kergiyI'li kenindesinin vari ikin olmah beniyte sava mahsehtirimi yakar tarsin hani  \n",
      "\n",
      "[7m 28s (400 20%) 1.8723]\n",
      "fali yalat almas prayal bile olana daliklasiz iktis olarlarin\n",
      "kadar yaflik onuncu. Bink kade dedirden: \n",
      "\n",
      "[9m 22s (500 25%) 2.0081]\n",
      "fara sukut senler ki?\n",
      "Bay, isseye varmis arede, bi karsi, kizsi olnuzlarimda ne seslemek surlan bu kem \n",
      "\n",
      "[11m 17s (600 30%) 1.9263]\n",
      "fak ilinen kalamis\n",
      "uhrasinin yolesene kadar elin kadinda bir indine circin icin inkindim.\n",
      "Kendirdi had \n",
      "\n",
      "[13m 3s (700 35%) 1.8933]\n",
      "fa amaya cuygurdugu yaladigi karalik yaptigi verdi.\n",
      "dukerinde der, tekrar. Basta:\n",
      "- Bu ada cok kizat v \n",
      "\n",
      "[15m 15s (800 40%) 2.1004]\n",
      "fak bir gelin bakkasinin balik basigi basga basirahaten bascak baktiyordu. Ne sayanen bir keyhe gibi g \n",
      "\n",
      "[17m 10s (900 45%) 1.8813]\n",
      "fa de degimin durmuyor. Dora bir Hayretiyecektim. Fakat caniptu de solrum. Iplaha ne dumustu. Fakat de \n",
      "\n",
      "[19m 4s (1000 50%) 2.1584]\n",
      "fa baskene cabut vaklati vakit mutbur, edemlike lasma melim alazin kadaldi. Zeynin, ben edece.\n",
      "Mujgun  \n",
      "\n",
      "[21m 2s (1100 55%) 1.6344]\n",
      "fatiarligi bir etti: Hanim, Hayret: Kadrilar..... Beseler Bey, degil goruyordum. Hucuk etti:\n",
      "- Doktu.  \n",
      "\n",
      "[22m 59s (1200 60%) 1.8756]\n",
      "fat iki daha sumuyordum.\n",
      "Eveyim, vozumaya birkar cok icin olacak icin duhunun etmek bir senerek, ediyo \n",
      "\n",
      "[25m 2s (1300 65%) 1.9958]\n",
      "fali, alisi ara - 20\n",
      "Resat Nuri Gerdim: (Kanfabi gelinde kiz ve var, nagalim evvel kalpim.\n",
      "- Kamran.\n",
      "- \n",
      "\n",
      "[27m 7s (1400 70%) 1.7463]\n",
      "fa bahcef ederi yeni evveline burunu seni evtal kenlenlerme otese gibi gani, bir parsiligi, yuzuler.\n",
      "O \n",
      "\n",
      "[29m 16s (1500 75%) 2.5602]\n",
      "fa, havurtte arayardirmisin baslamek: Pekistir, onu osanmislar musunmede banmu yazbasi sonra carkalari \n",
      "\n",
      "[31m 11s (1600 80%) 1.7874]\n",
      "fak cekin kaalasina baniyor daha gonunden uzak Edim; tekrarlerini cok- vucudunu diye aglaya olurs.\n",
      "- B \n",
      "\n",
      "[33m 14s (1700 85%) 1.8862]\n",
      "fat katin bir ziydim.\n",
      "Kabah Beyer, hayal Bir yalikalarimin hatirdim ve hanattan haydir, ununun Kiz gor \n",
      "\n",
      "[35m 15s (1800 90%) 1.8002]\n",
      "fah oyle Mudane irade senimi yasinda Munisenin icin? \"utunu onlugi.\n",
      "Ter degil, bir evliksi gordugumu b \n",
      "\n",
      "[38m 10s (1900 95%) 1.7081]\n",
      "fa o kalamin bir kabi alistigim kabaninin bu\n",
      "yumetlerin,\n",
      "etmis verdi, zaman bir tuttabi oyle ayabatece \n",
      "\n"
     ]
    }
   ],
   "source": [
    "n_epochs = 2000\n",
    "print_every = 100\n",
    "plot_every = 10\n",
    "hidden_size = 200\n",
    "n_layers = 2\n",
    "lr = 0.005\n",
    "\n",
    "decoder = RNN(n_characters, hidden_size, n_characters, n_layers)\n",
    "decoder_optimizer = torch.optim.Adam(decoder.parameters(), lr=lr)\n",
    "criterion = nn.CrossEntropyLoss()\n",
    "\n",
    "start = time.time()\n",
    "all_losses = []\n",
    "loss_avg = 0\n",
    "\n",
    "for epoch in range(1, n_epochs, + 1):\n",
    "    loss = train(*random_training_set())\n",
    "    loss_avg += loss\n",
    "    \n",
    "    if epoch % print_every == 0:\n",
    "        print('[%s (%d %d%%) %.4f]' % (time_since(start), epoch, epoch / n_epochs * 100, loss))\n",
    "        print(evaluate('fa', 100), '\\n')\n",
    "        \n",
    "    if epoch % plot_every == 0:\n",
    "        all_losses.append(loss_avg / plot_every)\n",
    "        loss_avg = 0\n",
    "    \n",
    "    "
   ]
  },
  {
   "cell_type": "code",
   "execution_count": 11,
   "metadata": {},
   "outputs": [
    {
     "data": {
      "text/plain": [
       "[<matplotlib.lines.Line2D at 0x19747d57da0>]"
      ]
     },
     "execution_count": 11,
     "metadata": {},
     "output_type": "execute_result"
    },
    {
     "data": {
      "image/png": "[encoded data removed]",
      "text/plain": [
       "<matplotlib.figure.Figure at 0x19747c4dd30>"
      ]
     },
     "metadata": {},
     "output_type": "display_data"
    }
   ],
   "source": [
    "import matplotlib.pyplot as plt\n",
    "import matplotlib.ticker as ticker\n",
    "%matplotlib inline\n",
    "\n",
    "plt.figure()\n",
    "plt.plot(all_losses)"
   ]
  },
  {
   "cell_type": "code",
   "execution_count": 12,
   "metadata": {},
   "outputs": [
    {
     "name": "stdout",
     "output_type": "stream",
     "text": [
      "Tak egliyet evveliyle saklandan bana nananinda, uzerine edendiki ile nirtan bir taniya bir banin biliyordu. Onu bir hapali, fakat yapasindan nelemibi sizili yapisli tekrarini nerak: Ihsanli yaparak\n",
      "bu c\n"
     ]
    }
   ],
   "source": [
    "print(evaluate('Ta', 200, temperature=0.7))"
   ]
  },
  {
   "cell_type": "code",
   "execution_count": 13,
   "metadata": {},
   "outputs": [
    {
     "name": "stdout",
     "output_type": "stream",
     "text": [
      "Tam.'i hF fat:\n",
      "usca optiSi BirifEpeye, dizi Ilitla.\n",
      "sab-. B+Rani kadi\n",
      "ois daiydi, fosurununli terkeyeve defa,\"\n",
      "cridTedigina decMu;\n",
      "beni edemis.\n",
      "MN-di'nin\" Devap,\n",
      "dunuttu.\n",
      "Fakat mi, Nina mibsisiy\n",
      "tanikli\n"
     ]
    }
   ],
   "source": [
    "print(evaluate('Ta', 200, temperature=1.7))"
   ]
  },
  {
   "cell_type": "code",
   "execution_count": 14,
   "metadata": {},
   "outputs": [
    {
     "name": "stdout",
     "output_type": "stream",
     "text": [
      "Ta, oldugumuylu\n",
      "ssalladi. Nelarik mil babul'a paniyla zevli,\n",
      "da, Zem, seni zattir; sitan gozlerin eyniz evveveyi attirmaya bila yatak, gibi benin aramaya Ma, heni yer saci, fisecesek!\" diyor.\n",
      "in atorada\n"
     ]
    }
   ],
   "source": [
    "print(evaluate('Ta', 200, temperature=1.2))"
   ]
  },
  {
   "cell_type": "code",
   "execution_count": 15,
   "metadata": {},
   "outputs": [
    {
     "name": "stdout",
     "output_type": "stream",
     "text": [
      "Ta bagarasini biraz sittiktan bir sey kalina bir seylerinde bir senine bir filsa\n",
      "yanina bir palikaninda, fakat ile bana olmak titiriye biraz birdenin dedi.\n",
      "Ipiyor'du. Onu ne olurdu. Kisan firtik vakitin\n"
     ]
    }
   ],
   "source": [
    "print(evaluate('Ta', 200, temperature=0.6))"
   ]
  }
 ],
 "metadata": {
  "kernelspec": {
   "display_name": "Python 3",
   "language": "python",
   "name": "python3"
  },
  "language_info": {
   "codemirror_mode": {
    "name": "ipython",
    "version": 3
   },
   "file_extension": ".py",
   "mimetype": "text/x-python",
   "name": "python",
   "nbconvert_exporter": "python",
   "pygments_lexer": "ipython3",
   "version": "3.6.1"
  }
 },
 "nbformat": 4,
 "nbformat_minor": 2
}
