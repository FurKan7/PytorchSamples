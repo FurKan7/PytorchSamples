{
 "cells": [
  {
   "cell_type": "code",
   "execution_count": 1,
   "metadata": {},
   "outputs": [
    {
     "name": "stdout",
     "output_type": "stream",
     "text": [
      "O'Neal\n"
     ]
    }
   ],
   "source": [
    "import glob\n",
    "import unicodedata\n",
    "import string\n",
    "\n",
    "all_letters = string.ascii_letters + \" .,;'-\"\n",
    "n_letters = len(all_letters) + 1 # Plus EOS marker\n",
    "EOS = n_letters - 1\n",
    "\n",
    "\n",
    "def unicode_to_ascii(s):\n",
    "    return ''.join(\n",
    "        c for c in unicodedata.normalize('NFD', s)\n",
    "        if unicodedata.category(c) != 'Mn'\n",
    "        and c in all_letters\n",
    "    )\n",
    "\n",
    "print(unicode_to_ascii(\"O'Néàl\"))"
   ]
  },
  {
   "cell_type": "code",
   "execution_count": 2,
   "metadata": {},
   "outputs": [
    {
     "name": "stdout",
     "output_type": "stream",
     "text": [
      "# categories: 19 ['names\\\\Arabic', 'names\\\\Chinese', 'names\\\\Czech', 'names\\\\Dutch', 'names\\\\English', 'names\\\\French', 'names\\\\German', 'names\\\\Greek', 'names\\\\Irish', 'names\\\\Italian', 'names\\\\Japanese', 'names\\\\Korean', 'names\\\\Polish', 'names\\\\Portuguese', 'names\\\\Russian', 'names\\\\Scottish', 'names\\\\Spanish', 'names\\\\Turkish', 'names\\\\Vietnamese']\n"
     ]
    }
   ],
   "source": [
    "def read_lines(filename):\n",
    "    lines = open(filename, encoding=\"ISO-8859-1\").read().strip().split('\\n')\n",
    "    return [unicode_to_ascii(line) for line in lines]\n",
    "\n",
    "category_lines = {}\n",
    "all_categories = []\n",
    "for filename in glob.glob('data/names/*.txt'):\n",
    "    category = filename.split('/')[-1].split('.')[0]\n",
    "    all_categories.append(category)\n",
    "    lines = read_lines(filename)\n",
    "    category_lines[category] = lines\n",
    "\n",
    "n_categories = len(all_categories)\n",
    "\n",
    "print('# categories:', n_categories, all_categories)"
   ]
  },
  {
   "cell_type": "code",
   "execution_count": 71,
   "metadata": {
    "collapsed": true
   },
   "outputs": [],
   "source": [
    "import torch\n",
    "import torch.nn as nn \n",
    "from torch.autograd import Variable\n",
    "\n",
    "class RNN(nn.Module):\n",
    "    def __init__(self, input_size, hidden_size, output_size):\n",
    "        super(RNN, self).__init__()\n",
    "        self.input_size = input_size\n",
    "        self.hidden_size = hidden_size\n",
    "        self.output_size = output_size\n",
    "        \n",
    "        self.i2h = nn.Linear(n_categories + input_size + hidden_size, hidden_size)\n",
    "        self.i2o = nn.Linear(n_categories + input_size + hidden_size, output_size)\n",
    "        self.o2o = nn.Linear(hidden_size + output_size, output_size)\n",
    "        self.softmax = nn.LogSoftmax()\n",
    "        \n",
    "    def forward(self, category, input, hidden):\n",
    "        input_combined = torch.cat((category, input, hidden), 1)\n",
    "        hidden = self.i2h(input_combined)\n",
    "        output = self.i2o(input_combined)\n",
    "        output_combined = torch.cat((hidden, output), 1)\n",
    "        output = self.o2o(output_combined)\n",
    "        return output, hidden\n",
    "    def init_hidden(self):\n",
    "        return Variable(torch.zeros(1, self.hidden_size))\n",
    "        "
   ]
  },
  {
   "cell_type": "code",
   "execution_count": 72,
   "metadata": {
    "collapsed": true
   },
   "outputs": [],
   "source": [
    "import random\n",
    "\n",
    "def random_training_pair():\n",
    "    category = random.choice(all_categories)\n",
    "    line = random.choice(category_lines[category])\n",
    "    return category, line"
   ]
  },
  {
   "cell_type": "code",
   "execution_count": 73,
   "metadata": {
    "collapsed": true
   },
   "outputs": [],
   "source": [
    "def make_category_input(category):\n",
    "    li = all_categories.index(category)\n",
    "    tensor = torch.zeros(1, n_categories)\n",
    "    tensor[0][li] = 1\n",
    "    return Variable(tensor)\n",
    "\n",
    "def make_chars_input(chars):\n",
    "    tensor = torch.zeros(len(chars), n_letters)\n",
    "    for ci in range(len(chars)):\n",
    "        char = chars[ci]\n",
    "        tensor[ci][all_letters.find(char)] = 1\n",
    "    tensor = tensor.view(-1, 1, n_letters)\n",
    "    return Variable(tensor)\n",
    "\n",
    "def make_target(line):\n",
    "    letter_indexes = [all_letters.find(line[li]) for li in range(1, len(line))]\n",
    "    letter_indexes.append(n_letters - 1)\n",
    "    tensor = torch.LongTensor(letter_indexes)\n",
    "    return Variable(tensor)"
   ]
  },
  {
   "cell_type": "code",
   "execution_count": 74,
   "metadata": {
    "collapsed": true
   },
   "outputs": [],
   "source": [
    "def random_training_set():\n",
    "    category, line = random_training_pair()\n",
    "    category_input = make_category_input(category)\n",
    "    line_input = make_chars_input(line)\n",
    "    line_target = make_target(line)\n",
    "    return category_input, line_input, line_target"
   ]
  },
  {
   "cell_type": "code",
   "execution_count": 75,
   "metadata": {
    "collapsed": true
   },
   "outputs": [],
   "source": [
    "def train(category_tensor, input_line_tensor, target_line_tensor):\n",
    "    hidden = rnn.init_hidden()\n",
    "    optimizer.zero_grad()\n",
    "    loss = 0\n",
    "    \n",
    "    for i in range(input_line_tensor.size()[0]):\n",
    "        output, hidden = rnn(category_tensor, input_line_tensor[i], hidden)\n",
    "        loss += criterion(output, target_line_tensor[i])\n",
    "        \n",
    "    loss.backward()\n",
    "    optimizer.step()\n",
    "    \n",
    "    return output, loss.data[0] / input_line_tensor.size()[0]"
   ]
  },
  {
   "cell_type": "code",
   "execution_count": 76,
   "metadata": {
    "collapsed": true
   },
   "outputs": [],
   "source": [
    "import time\n",
    "import math\n",
    "\n",
    "def time_since(t):\n",
    "    now = time.time()\n",
    "    s = now - t\n",
    "    m = math.floor(s / 60)\n",
    "    s -= m * 60\n",
    "    return '%dm %ds' % (m, s)"
   ]
  },
  {
   "cell_type": "code",
   "execution_count": 87,
   "metadata": {},
   "outputs": [
    {
     "name": "stdout",
     "output_type": "stream",
     "text": [
      "0m 43s (5000 1%) 1.9869\n",
      "1m 31s (10000 2%) 2.2540\n",
      "2m 16s (15000 3%) 1.8076\n",
      "2m 59s (20000 4%) 2.3955\n",
      "3m 41s (25000 5%) 3.6487\n",
      "4m 25s (30000 6%) 2.1669\n",
      "5m 9s (35000 7%) 0.9893\n",
      "5m 53s (40000 8%) 1.9935\n",
      "6m 38s (45000 9%) 1.7410\n",
      "7m 21s (50000 10%) 1.2334\n",
      "8m 5s (55000 11%) 2.9404\n",
      "8m 48s (60000 12%) 1.7917\n",
      "9m 30s (65000 13%) 2.5730\n",
      "10m 12s (70000 14%) 2.4150\n",
      "10m 54s (75000 15%) 2.3844\n",
      "11m 36s (80000 16%) 1.7638\n",
      "12m 18s (85000 17%) 3.0266\n",
      "13m 1s (90000 18%) 2.9169\n",
      "13m 43s (95000 19%) 2.0863\n",
      "14m 25s (100000 20%) 2.2351\n",
      "15m 7s (105000 21%) 1.2831\n",
      "15m 50s (110000 22%) 1.6042\n",
      "16m 32s (115000 23%) 2.0175\n",
      "17m 14s (120000 24%) 2.1275\n",
      "17m 56s (125000 25%) 2.1885\n",
      "18m 39s (130000 26%) 2.5547\n",
      "19m 21s (135000 27%) 1.5987\n",
      "20m 4s (140000 28%) 1.8190\n",
      "20m 46s (145000 28%) 2.0183\n",
      "21m 28s (150000 30%) 1.7880\n",
      "22m 12s (155000 31%) 2.6106\n",
      "22m 54s (160000 32%) 2.2161\n",
      "23m 37s (165000 33%) 1.9728\n",
      "24m 19s (170000 34%) 2.0387\n",
      "25m 2s (175000 35%) 2.1586\n",
      "25m 45s (180000 36%) 2.6247\n",
      "26m 31s (185000 37%) 1.6415\n",
      "27m 14s (190000 38%) 2.1601\n",
      "27m 56s (195000 39%) 1.1835\n",
      "28m 39s (200000 40%) 1.8610\n",
      "29m 22s (205000 41%) 1.9283\n",
      "30m 4s (210000 42%) 2.7379\n",
      "30m 47s (215000 43%) 2.1446\n",
      "31m 29s (220000 44%) 1.8974\n",
      "32m 15s (225000 45%) 2.4389\n",
      "33m 3s (230000 46%) 2.1793\n",
      "33m 50s (235000 47%) 1.2776\n",
      "34m 33s (240000 48%) 2.1521\n",
      "35m 19s (245000 49%) 2.6074\n",
      "36m 7s (250000 50%) 0.8765\n",
      "36m 53s (255000 51%) 1.5034\n",
      "37m 36s (260000 52%) 2.8533\n",
      "38m 19s (265000 53%) 1.8637\n",
      "39m 1s (270000 54%) 2.9208\n",
      "39m 43s (275000 55%) 2.0687\n",
      "40m 25s (280000 56%) 2.7725\n",
      "41m 7s (285000 56%) 2.0668\n",
      "41m 50s (290000 57%) 3.0150\n",
      "42m 32s (295000 59%) 1.8281\n",
      "43m 14s (300000 60%) 1.6019\n",
      "43m 57s (305000 61%) 1.2023\n",
      "44m 39s (310000 62%) 1.4606\n",
      "45m 22s (315000 63%) 1.9725\n",
      "46m 4s (320000 64%) 2.8358\n",
      "46m 45s (325000 65%) 2.1965\n",
      "47m 28s (330000 66%) 2.2756\n",
      "48m 10s (335000 67%) 2.3471\n",
      "48m 52s (340000 68%) 2.2801\n",
      "49m 34s (345000 69%) 2.1562\n",
      "50m 16s (350000 70%) 1.8703\n",
      "50m 58s (355000 71%) 1.9092\n",
      "51m 39s (360000 72%) 2.2862\n",
      "52m 22s (365000 73%) 1.4226\n",
      "53m 3s (370000 74%) 1.8424\n",
      "53m 45s (375000 75%) 2.1159\n",
      "54m 27s (380000 76%) 1.6111\n",
      "55m 9s (385000 77%) 2.0106\n",
      "55m 51s (390000 78%) 2.5668\n",
      "56m 33s (395000 79%) 2.3374\n",
      "57m 15s (400000 80%) 1.5173\n",
      "57m 57s (405000 81%) 1.5974\n",
      "58m 38s (410000 82%) 0.9189\n",
      "59m 20s (415000 83%) 2.6435\n",
      "60m 1s (420000 84%) 2.2106\n",
      "60m 43s (425000 85%) 1.6015\n",
      "61m 25s (430000 86%) 3.1515\n",
      "62m 7s (435000 87%) 1.3555\n",
      "62m 49s (440000 88%) 1.8215\n",
      "63m 31s (445000 89%) 2.0220\n",
      "64m 13s (450000 90%) 2.0803\n",
      "64m 55s (455000 91%) 2.5086\n",
      "65m 37s (460000 92%) 0.8818\n",
      "66m 18s (465000 93%) 2.0914\n",
      "67m 0s (470000 94%) 2.4011\n",
      "67m 42s (475000 95%) 3.0260\n",
      "68m 23s (480000 96%) 1.9335\n",
      "69m 5s (485000 97%) 3.4869\n",
      "69m 49s (490000 98%) 1.4538\n",
      "70m 34s (495000 99%) 2.4487\n",
      "71m 18s (500000 100%) 2.1549\n"
     ]
    }
   ],
   "source": [
    "n_epochs = 500000\n",
    "print_every = 5000\n",
    "plot_every = 500\n",
    "all_losses = []\n",
    "loss_avg = 0\n",
    "learning_rate = 0.0005\n",
    "\n",
    "rnn = RNN(n_letters, 128, n_letters)\n",
    "optimizer = torch.optim.Adam(rnn.parameters(), lr=learning_rate)\n",
    "criterion = nn.CrossEntropyLoss()\n",
    "\n",
    "start = time.time()\n",
    "for epoch in range(1, n_epochs + 1):\n",
    "    output, loss = train(*random_training_set())\n",
    "    loss_avg += loss\n",
    "    \n",
    "    if epoch % print_every == 0:\n",
    "        print('%s (%d %d%%) %.4f' % (time_since(start), epoch, epoch / n_epochs * 100, loss))\n",
    "    \n",
    "    if epoch % print_every == 0:\n",
    "        all_losses.append(loss_avg / plot_every)\n",
    "        loss_avg = 0"
   ]
  },
  {
   "cell_type": "code",
   "execution_count": 88,
   "metadata": {},
   "outputs": [
    {
     "data": {
      "text/plain": [
       "[<matplotlib.lines.Line2D at 0x2310e0074a8>]"
      ]
     },
     "execution_count": 88,
     "metadata": {},
     "output_type": "execute_result"
    },
    {
     "data": {
      "image/png": "[encoded data removed]",
      "text/plain": [
       "<matplotlib.figure.Figure at 0x2310cf62518>"
      ]
     },
     "metadata": {},
     "output_type": "display_data"
    }
   ],
   "source": [
    "import matplotlib.pyplot as plt\n",
    "import matplotlib.ticker as ticker\n",
    "%matplotlib inline\n",
    "\n",
    "plt.figure()\n",
    "plt.plot(all_losses)"
   ]
  },
  {
   "cell_type": "code",
   "execution_count": 89,
   "metadata": {
    "collapsed": true
   },
   "outputs": [],
   "source": [
    "max_length = 20\n",
    "\n",
    "def generate_one(category, start_char='A', temperature=0.5):\n",
    "    category_input = make_category_input(category)\n",
    "    chars_input = make_chars_input(start_char)\n",
    "    hidden = rnn.init_hidden()\n",
    "    \n",
    "    output_str = start_char\n",
    "    \n",
    "    for i in range(max_length):\n",
    "        output, hidden =  rnn(category_input, chars_input[0], hidden)\n",
    "        \n",
    "        output_dist = output.data.view(-1).div(temperature).exp()\n",
    "        top_i = torch.multinomial(output_dist, 1)[0]\n",
    "        \n",
    "        if top_i == EOS:\n",
    "            break\n",
    "        else:\n",
    "            char = all_letters[top_i]\n",
    "            output_str += char\n",
    "            chars_input = make_chars_input(char)\n",
    "            \n",
    "    return output_str\n",
    "\n",
    "def generate(category, start_chars='ABC'):\n",
    "    for start_char in  start_chars:\n",
    "        print(generate_one(category,start_char))"
   ]
  },
  {
   "cell_type": "code",
   "execution_count": 90,
   "metadata": {},
   "outputs": [
    {
     "name": "stdout",
     "output_type": "stream",
     "text": [
      "Ryertev\n",
      "Uronov\n",
      "Stipovek\n"
     ]
    }
   ],
   "source": [
    "generate('names\\\\Russian', 'RUS')"
   ]
  },
  {
   "cell_type": "code",
   "execution_count": 111,
   "metadata": {},
   "outputs": [
    {
     "name": "stdout",
     "output_type": "stream",
     "text": [
      "Aare\n",
      "Basch\n",
      "Caula\n"
     ]
    }
   ],
   "source": [
    "generate('names\\\\Turkish', 'ABC')"
   ]
  },
  {
   "cell_type": "code",
   "execution_count": null,
   "metadata": {
    "collapsed": true
   },
   "outputs": [],
   "source": []
  }
 ],
 "metadata": {
  "kernelspec": {
   "display_name": "Python 3",
   "language": "python",
   "name": "python3"
  },
  "language_info": {
   "codemirror_mode": {
    "name": "ipython",
    "version": 3
   },
   "file_extension": ".py",
   "mimetype": "text/x-python",
   "name": "python",
   "nbconvert_exporter": "python",
   "pygments_lexer": "ipython3",
   "version": "3.6.1"
  }
 },
 "nbformat": 4,
 "nbformat_minor": 2
}
